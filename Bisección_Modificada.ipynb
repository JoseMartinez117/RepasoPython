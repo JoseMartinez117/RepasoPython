{
  "nbformat": 4,
  "nbformat_minor": 0,
  "metadata": {
    "colab": {
      "provenance": [],
      "authorship_tag": "ABX9TyNj6qEIc85TlBXYPyuTHtDV",
      "include_colab_link": true
    },
    "kernelspec": {
      "name": "python3",
      "display_name": "Python 3"
    },
    "language_info": {
      "name": "python"
    }
  },
  "cells": [
    {
      "cell_type": "markdown",
      "metadata": {
        "id": "view-in-github",
        "colab_type": "text"
      },
      "source": [
        "<a href=\"https://colab.research.google.com/github/JoseMartinez117/RepasoPython/blob/main/Bisecci%C3%B3n_Modificada.ipynb\" target=\"_parent\"><img src=\"https://colab.research.google.com/assets/colab-badge.svg\" alt=\"Open In Colab\"/></a>"
      ]
    },
    {
      "cell_type": "code",
      "source": [
        "#Metodo para Calcular el error porcentual de los calculos, tomando el valor de la variable calculada y el valor de la variable calculada anterior\n",
        "def cacularErrorPorc(valorActu, valorAnt):\n",
        "    if(valorActu!=0):\n",
        "      error=abs((valorActu-valorAnt)/valorActu)*100\n",
        "      return error\n",
        "    else:\n",
        "      return 0;\n"
      ],
      "metadata": {
        "id": "Ss_o7-tjtwYS"
      },
      "execution_count": 5,
      "outputs": []
    },
    {
      "cell_type": "markdown",
      "source": [
        "Codigo Original"
      ],
      "metadata": {
        "id": "xMnHUlBItka0"
      }
    },
    {
      "cell_type": "code",
      "execution_count": 3,
      "metadata": {
        "id": "5FvP3YV_seaY"
      },
      "outputs": [],
      "source": [
        "# constant definition\n",
        "import math\n",
        "\n",
        "\n",
        "def f(x):\n",
        "  \"\"\"f(x) = x^3 + 4x^2 − 10\"\"\"\n",
        "  return x**3 + 4 * x**2 - 10\n",
        "def g(x):\n",
        "  \"\"\"f(x) = x cos(x − 1) − sin(x)\"\"\"\n",
        "  return x * math.cos(x-1) - math.sin(x)\n",
        "\n",
        "def bisection(fx, a, b, error, n):\n",
        "  \"\"\"\n",
        "  Inputs:\n",
        "  f -- f(x)\n",
        "  a -- start\n",
        "  b -- end\n",
        "  tol -- tolerance\n",
        "  n -- max iterations\n",
        "  Output:\n",
        "  p -- aproximation of the 0's f(x)\n",
        "  Exception in case of exhausting the max iteration\n",
        "  \"\"\"\n",
        "  print(\"{:<25} {:<25} {:<25}\".format(\"iteracion\",\"Error %\", \"P\"))\n",
        "  i = 1\n",
        "  xeAnt=1\n",
        "  while i <= n:\n",
        "    p = a + (b - a) / 2\n",
        "    xe=abs(fx(p))\n",
        "    e=cacularErrorPorc(xe, xeAnt)\n",
        "    xeAnt=xe\n",
        "\n",
        "\n",
        "    print(\"{:<25} {:<25} {:<25}\".format(i,e,p))\n",
        "    if e<=error:\n",
        "      return p\n",
        "\n",
        "    i += 1\n",
        "\n",
        "    if fx(p) > 0:\n",
        "      a = p\n",
        "    elif fx(p)<0:\n",
        "      b = p\n"
      ]
    },
    {
      "cell_type": "markdown",
      "source": [
        "We now need to call the bisection function with the f(x) and g(x)\n",
        "\n"
      ],
      "metadata": {
        "id": "iJ9ojb3Ysshb"
      }
    },
    {
      "cell_type": "code",
      "source": [
        "\n",
        "# f(x), a = 1, b = 2, error = 0.05, N0 = 100\n",
        "print(\"Bisection f(x):\")\n",
        "bisection(f,1,2,0.05,100)\n",
        "\n"
      ],
      "metadata": {
        "colab": {
          "base_uri": "https://localhost:8080/"
        },
        "id": "nuu354crspfv",
        "outputId": "aa562429-b0d4-4124-cdca-cb8be9e6c843"
      },
      "execution_count": 6,
      "outputs": [
        {
          "output_type": "stream",
          "name": "stdout",
          "text": [
            "Bisection f(x):\n",
            "iteracion                 Error %                   P                        \n",
            "1                         57.89473684210527         1.5                      \n",
            "2                         68.78850102669405         1.75                     \n",
            "3                         28.579285059578368        1.875                    \n",
            "4                         13.300884076686204        1.9375                   \n",
            "5                         6.440303067618651         1.96875                  \n",
            "6                         3.171429881098447         1.984375                 \n",
            "7                         1.5739695886069982        1.9921875                \n",
            "8                         0.784100482056155         1.99609375               \n",
            "9                         0.39133552570153024       1.998046875              \n",
            "10                        0.19548987078401495       1.9990234375             \n",
            "11                        0.09770056019106209       1.99951171875            \n",
            "12                        0.04883919848933697       1.999755859375           \n"
          ]
        },
        {
          "output_type": "execute_result",
          "data": {
            "text/plain": [
              "1.999755859375"
            ]
          },
          "metadata": {},
          "execution_count": 6
        }
      ]
    },
    {
      "cell_type": "code",
      "source": [
        "# g(x), a = 4, b = 6, error = 0.05, N0 = 100\n",
        "print(\"Bisection g(x):\")\n",
        "bisection(g,4,6,0.05,100)"
      ],
      "metadata": {
        "colab": {
          "base_uri": "https://localhost:8080/"
        },
        "id": "OF4YTEu0tAD7",
        "outputId": "9cb08c93-9e6d-49fe-e61d-5965bcd400db"
      },
      "execution_count": 7,
      "outputs": [
        {
          "output_type": "stream",
          "name": "stdout",
          "text": [
            "Bisection g(x):\n",
            "iteracion                 Error %                   P                        \n",
            "1                         56.69671883419745         5.0                      \n",
            "2                         28.648972357998186        4.5                      \n",
            "3                         2.8088605127435953        4.25                     \n",
            "4                         1.1549096320496333        4.125                    \n",
            "5                         1.1799921805067932        4.0625                   \n",
            "6                         0.7359796817773633        4.03125                  \n",
            "7                         0.40390179749660254       4.015625                 \n",
            "8                         0.21085564570679977       4.0078125                \n",
            "9                         0.10764483621532563       4.00390625               \n",
            "10                        0.054375523569221186      4.001953125              \n",
            "11                        0.027325894587435118      4.0009765625             \n"
          ]
        },
        {
          "output_type": "execute_result",
          "data": {
            "text/plain": [
              "4.0009765625"
            ]
          },
          "metadata": {},
          "execution_count": 7
        }
      ]
    }
  ]
}